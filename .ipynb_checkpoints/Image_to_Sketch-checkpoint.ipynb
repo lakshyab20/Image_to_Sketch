{
 "cells": [
  {
   "cell_type": "code",
   "execution_count": 1,
   "metadata": {},
   "outputs": [],
   "source": [
    "# Importing required libraries\n",
    "\n",
    "import cv2\n",
    "import streamlit as st\n",
    "import numpy as np\n",
    "from PIL import Image"
   ]
  },
  {
   "cell_type": "code",
   "execution_count": null,
   "metadata": {},
   "outputs": [],
   "source": [
    "# Function for converting Color image to Pencil Sketch and other cartoon filters\n",
    "\n",
    "def img_to_cartoon_filter(img,cartoon):\n",
    "    \n",
    "    #converting colored image to grayscale using cv2 cvtColor function\n",
    "    gray = cv2.cvtColor(img, cv2.COLOR_BGR2GRAY)\n",
    "    \n",
    "    # If cartoon filter is pencil sketch then getting the values for tuning image from user \n",
    "    if cartoon == 'Pencil Sketch':\n",
    "        value = st.sidebar.slider('Brightness(high value, high brightness)',0.0,300.0,250.0)\n",
    "        kernel = st.sidebar.slider('Boldness(high value, more bold edges)',1,99,25,step=2)\n",
    "        \n",
    "        # making image blur to handle noise in image\n",
    "        gray_blur = cv2.GaussianBlur(gray,(kernel,kernel),0)\n",
    "        \n",
    "        # Dividing the image gives us a ratio of change between each pixel of two images\n",
    "        cartoon=cv.Divide(gray,gray_blur,scale=value)\n",
    "        \n",
    "    # Detail Enhancement filter gives us a cartoon effect by sharpening the image, smoothing the colors, and enhancing the edges.   \n",
    "    else if cartoon == 'Detail Enhancement':\n",
    "        \n",
    "        smooth=st.slidebar.slider('Smoothness',3,99,5,step=2)\n",
    "        kernel=st.slidebar.slider('Sharpness',1,21,3,step=2)\n",
    "        enhance_edge=st.slidebar.slider('Enhancing Edges',0.0,1.0,0.5)\n",
    "        \n",
    "        # Blurring image using medianBlur (we can also use Gaussian Blur)\n",
    "        gray=csv2.medianBlur(gray,kernel)\n",
    "        \n",
    "        # detecting the edges of the image\n",
    "        edges=cv2.adaptiveThreshold(gray,255,cv2.ADAPTIVE_THRESH_MEAN_C,cv2.THRESH_BINARY,9,9)\n",
    "    "
   ]
  }
 ],
 "metadata": {
  "kernelspec": {
   "display_name": "Python 3",
   "language": "python",
   "name": "python3"
  },
  "language_info": {
   "codemirror_mode": {
    "name": "ipython",
    "version": 3
   },
   "file_extension": ".py",
   "mimetype": "text/x-python",
   "name": "python",
   "nbconvert_exporter": "python",
   "pygments_lexer": "ipython3",
   "version": "3.7.4"
  }
 },
 "nbformat": 4,
 "nbformat_minor": 2
}
